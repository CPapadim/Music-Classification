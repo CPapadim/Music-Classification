{
 "cells": [
  {
   "cell_type": "markdown",
   "metadata": {},
   "source": [
    "Strategy: \n",
    "\n",
    "    First we will use an LDA model to extract 'topic' features.\n",
    "    Music is a language right?  Notes are words, songs are documents\n",
    "    (probably should use Chords instead of notes but I don't know enough about music).\n",
    "    \n",
    "    Then we will use these LDA features and other music features to train classifier models.\n",
    "    Model 1 identifies composer (should be easier)\n",
    "    Model 2 identifies the score, and composer can be found from that\n",
    "\n",
    "    \n",
    "    Once score has been identified, match the piece of interest:\n",
    "        E.g. piece of interest (PI) [A, B, C], Score [B, C, D, A, B, C, A, B, D]\n",
    "        Move the PI across the score, each time counting a distance metric (see below) between each note in the PI and the corresponding note in the full song.\n",
    "        The place with the smallest distance is the best match"
   ]
  },
  {
   "cell_type": "code",
   "execution_count": 1,
   "metadata": {
    "collapsed": false
   },
   "outputs": [],
   "source": [
    "import music21, os\n",
    "import numpy, pandas\n",
    "import scipy.stats as stats\n",
    "from random import randint\n",
    "from collections import Counter\n",
    "from music21 import *\n",
    "from sklearn import ensemble\n",
    "from sklearn.cross_validation import train_test_split\n",
    "from gensim import corpora, models, similarities, matutils\n",
    "import gensim.parsing.preprocessing as preprocess\n",
    "import gensim.matutils as mat\n",
    "from matplotlib import pyplot as plt"
   ]
  },
  {
   "cell_type": "markdown",
   "metadata": {},
   "source": [
    "#Grab the data and process it so it's useful"
   ]
  },
  {
   "cell_type": "code",
   "execution_count": null,
   "metadata": {
    "collapsed": false
   },
   "outputs": [],
   "source": [
    "# Grab all data files and extract music features from them\n",
    "scoreFiles = []\n",
    "composers = []\n",
    "for root, dirnames, filenames in os.walk(os.getcwd()+'/musicDB'):\n",
    "  for filename in filenames:\n",
    "    scoreFiles.append(os.path.join(root, filename))\n",
    "    \n",
    "    cmpStartIdx = scoreFiles[-1].find('musicDB')+8\n",
    "    cmpEndIdx = scoreFiles[-1].find('\\\\', cmpStartIdx)\n",
    "    composers.append(scoreFiles[-1][cmpStartIdx:cmpEndIdx])\n",
    "\n",
    "notes = []\n",
    "sigs = []\n",
    "keys = []\n",
    "instruments = []\n",
    "durations = []\n",
    "ambitus = []\n",
    "scores = []\n",
    "scoreIDs = []\n",
    "i = 0\n",
    "for scoreFile in scoreFiles:\n",
    "    i+=1\n",
    "    #if i % 20 == 0:\n",
    "    #    print(i)\n",
    "    parsedScore = converter.parse(scoreFile)\n",
    "    notes.append([str(p) for p in parsedScore.pitches])\n",
    "    sigs.append([str(s)[29:-1] for s in parsedScore.flat.getTimeSignatures()])\n",
    "    keys.append(parsedScore.analyze('key'))\n",
    "    instruments.append([str(inst) for inst in parsedScore.flat.getInstruments(returnDefault=False)])\n",
    "    durations.append(parsedScore.highestTime)\n",
    "    ambitus.append(parsedScore.analyze('ambitus'))\n",
    "    scores.append(scoreFile)\n",
    "    scoreIDs.append(i-1)\n",
    "    \n",
    "import dill\n",
    "with open('musicData.pickle','wb') as f:\n",
    "    dill.dump([scores, scoreIDs, notes, composers, sigs, keys, instruments, durations, ambitus], f)"
   ]
  },
  {
   "cell_type": "code",
   "execution_count": 2,
   "metadata": {
    "collapsed": true
   },
   "outputs": [],
   "source": [
    "import dill\n",
    "with open('musicData.pickle','rb') as f:\n",
    "    scores, scoreIDs, notes, composers, sigs, keys, instruments, durations, ambitus = dill.load(f)"
   ]
  },
  {
   "cell_type": "code",
   "execution_count": 3,
   "metadata": {
    "collapsed": false
   },
   "outputs": [],
   "source": [
    "#ComposersID dictionary\n",
    "compDict = {}\n",
    "compId = 1\n",
    "for c in set(composers):\n",
    "    compDict[c] = compId\n",
    "    compId += 1\n",
    "\n",
    "\n",
    "#KeysIDs Dict\n",
    "keyStr = []\n",
    "for k in keys:\n",
    "    keyStr.append(str(k))\n",
    "keyDict = {}\n",
    "keyId = 1\n",
    "for k in set(keyStr):\n",
    "    keyDict[k] = keyId\n",
    "    keyId += 1\n",
    "\n",
    "#AmbitusIDs Dict\n",
    "ambitusStr = []\n",
    "for a in ambitus:\n",
    "    ambitusStr.append(str(a)[27:-2])\n",
    "ambitusDict = {}\n",
    "ambitusId = 1\n",
    "for a in set(ambitusStr):\n",
    "    ambitusDict[a] = ambitusId\n",
    "    ambitusId += 1\n",
    "\n",
    "allsigs =  []\n",
    "for s in sigs:\n",
    "    allsigs += s\n",
    "sigDict = {}\n",
    "sigId = 1\n",
    "for s in set(allsigs):\n",
    "    sigDict[s] = sigId\n",
    "    sigId += 1\n",
    "    \n",
    "#InstrumentsID dictionary\n",
    "allinst = []\n",
    "for inst in instruments:\n",
    "    allinst += inst\n",
    "instDict = {}\n",
    "instId = 1\n",
    "for inst in set(allinst):\n",
    "    instDict[inst] = instId\n",
    "    instId += 1\n"
   ]
  },
  {
   "cell_type": "markdown",
   "metadata": {},
   "source": [
    "#Use the data to train the LDA model\n",
    "\n",
    "We use all of the data to train the model.  Notes are words, and scores are documents.  We decide on 15 topics.  There are methods to determine the optimal number of topics but I will not use them for this analysis."
   ]
  },
  {
   "cell_type": "code",
   "execution_count": 4,
   "metadata": {
    "collapsed": false,
    "scrolled": false
   },
   "outputs": [],
   "source": [
    "dictionary = corpora.Dictionary(notes)\n",
    "corpus = [dictionary.doc2bow(text) for text in notes]\n",
    "\n",
    "n_topics = 15\n",
    "lda = models.ldamodel.LdaModel(corpus = corpus, id2word = dictionary, num_topics = n_topics, update_every = 1, chunksize = 100, passes = 5)\n"
   ]
  },
  {
   "cell_type": "code",
   "execution_count": 5,
   "metadata": {
    "collapsed": true
   },
   "outputs": [],
   "source": [
    "lda.save('ldamodel')"
   ]
  },
  {
   "cell_type": "code",
   "execution_count": 6,
   "metadata": {
    "collapsed": false
   },
   "outputs": [],
   "source": [
    "def classify_score(score,ldamodel):\n",
    "    dictionaryS = corpora.Dictionary(score)\n",
    "    corpusS = [dictionary.doc2bow(text) for text in score]\n",
    "    return lda.inference(corpusS)[0][0]"
   ]
  },
  {
   "cell_type": "code",
   "execution_count": 7,
   "metadata": {
    "collapsed": false
   },
   "outputs": [],
   "source": [
    "def mostCommon(myList):\n",
    "    counts = Counter(myList)\n",
    "    return counts.most_common(1)[0][0]\n"
   ]
  },
  {
   "cell_type": "markdown",
   "metadata": {},
   "source": [
    "We now have our LDA model.  We can use it to determine topics in subsets of scores.  Then we can feed these and other features into the RF classifier.  One thing to note is that topic coefficient magnitude might not be as interesting as max topic.  So in addition to the coefficietn magnitude we will generate 3 more features, FirstTopic, SecondTopic, and ThirdTopic, that will contain topic IDs of the 3 highest coefficients. "
   ]
  },
  {
   "cell_type": "code",
   "execution_count": 80,
   "metadata": {
    "collapsed": false
   },
   "outputs": [],
   "source": [
    "#This REALLY wants to be a function - but for now we'll leave it like this\n",
    "#For each score, we want to pick out several random pieces of random length.\n",
    "useInstruments = 0  #Instruments are not consistently named therefore it's cheating to use them\n",
    "                    #they are too unique between scores even if instruments are the same.\n",
    "\n",
    "notesArray = numpy.array(notes)\n",
    "composersArray = numpy.array(composers)\n",
    "sigsArray = numpy.array(sigs)\n",
    "keysArray = numpy.array(keyStr)\n",
    "instrumentsArray = numpy.array(instruments)\n",
    "durationsArray = numpy.array(durations)\n",
    "ambitusArray = numpy.array(ambitusStr)\n",
    "scoresArray = numpy.array(scores)\n",
    "scoreIDsArray = numpy.array(scoreIDs)\n",
    "\n",
    "features = []\n",
    "classes = []\n",
    "pieceScores = []  #We'll store the piece notes in this array so they get split later when we split to test and training sets\n",
    "                  #We'll also need to either use an ID column in classes OR set the random_state when we split the data\n",
    "                  #This is hacky and shouldn't done this way but.. Shhhh!  Don't look here! \n",
    "minLength = 20 #mininum length of score piece\n",
    "numPieces = 20 #number of random pieces to sample from each score\n",
    "for scoreID in scoreIDsArray:\n",
    "    for s in range(0,numPieces):\n",
    "        features.append([])\n",
    "        classes.append([])\n",
    "\n",
    "        #Classification\n",
    "        classes[-1].append(compDict[composersArray[scoreID]]) #Composer ID\n",
    "        classes[-1].append(composersArray[scoreID]) #Composer Name\n",
    "        classes[-1].append(scoresArray[scoreID]) # Score file\n",
    "        classes[-1].append(scoreIDsArray[scoreID]) # Score ID\n",
    "\n",
    "        startIdx = randint(0,len(notesArray[scoreID])-minLength)\n",
    "        endIdx = randint(startIdx+minLength, len(notesArray[scoreID]))\n",
    "    \n",
    "        pieceScores.append([notesArray[scoreID][startIdx:endIdx]])\n",
    "        #LDA Features\n",
    "        topicCoeffs = classify_score([notesArray[scoreID][startIdx:endIdx]], lda)\n",
    "        for coeff in topicCoeffs:\n",
    "            features[-1].append(coeff)\n",
    "        top3topics = numpy.argsort(topicCoeffs)[::-1][0:3]\n",
    "        for topic in top3topics:\n",
    "            features[-1].append(topic)\n",
    "\n",
    "        features[-1].append(sigDict[mostCommon(sigsArray[scoreID])])\n",
    "        features[-1].append(keyDict[keysArray[scoreID]])\n",
    "        features[-1].append(ambitusDict[ambitusArray[scoreID]])\n",
    "        \n",
    "        if useInstruments == 1:\n",
    "            for k in instDict.keys():\n",
    "                features[-1].append(instrumentsArray[scoreID].count(k))\n",
    "        #duration =  you won't know the duration of the total song in test data\n",
    "        #density =  need note durations to calculate this\n",
    "\n",
    "classesArray = numpy.array(classes)\n",
    "featuresArray = numpy.array(features)\n",
    "\n",
    "featureLabels = []\n",
    "for t in range(0,n_topics):\n",
    "    featureLabels.append('topic' + str(t))\n",
    "featureLabels.append('FistTopic')\n",
    "featureLabels.append('SecondTopic')\n",
    "featureLabels.append('ThirdTopic')\n",
    "featureLabels.append('Time Signature')\n",
    "featureLabels.append('Key')\n",
    "featureLabels.append('Ambitus')\n",
    "if useInstruments == 1:\n",
    "    for k in instDict.keys():\n",
    "        featureLabels.append('Instrument: ' + k)\n",
    "\n",
    "    "
   ]
  },
  {
   "cell_type": "markdown",
   "metadata": {},
   "source": [
    "We will split the data into training sets to train our classifiers, and a test set to validate the models."
   ]
  },
  {
   "cell_type": "code",
   "execution_count": 81,
   "metadata": {
    "collapsed": false,
    "scrolled": false
   },
   "outputs": [],
   "source": [
    "train_features, test_features, train_classes, test_classes = train_test_split(featuresArray, classesArray, random_state = 0)\n",
    "\n",
    "#Shhh!  Stop looking at anything with pieceScores\n",
    "train_pieceScores, test_pieceScores, junk, junk = train_test_split(pieceScores, pieceScores, random_state = 0) "
   ]
  },
  {
   "cell_type": "markdown",
   "metadata": {},
   "source": [
    "#Composer Classification\n",
    "\n",
    "Here we use a random forest to classify the composers.  First we'll try using ONLY the LDA features.  Then we'll use the additional features from the scores like keys, time signiture, and ambitus."
   ]
  },
  {
   "cell_type": "code",
   "execution_count": 10,
   "metadata": {
    "collapsed": false
   },
   "outputs": [],
   "source": [
    "#First let's fit only LDA features\n",
    "XVar = train_features[:,0:18] #Train on LDA features\n",
    "YVar = train_classes[:,0]\n",
    "\n",
    "composerForest=ensemble.RandomForestClassifier(n_estimators=500, criterion='gini', max_depth=None, min_samples_split=2, min_samples_leaf=1, min_weight_fraction_leaf=0.0, max_features='auto', max_leaf_nodes=None, bootstrap=True, oob_score=True, n_jobs=-1, random_state=None, verbose=0, warm_start=False, class_weight=None)        \n",
    "composerForest.fit(XVar,YVar); "
   ]
  },
  {
   "cell_type": "code",
   "execution_count": 11,
   "metadata": {
    "collapsed": false
   },
   "outputs": [
    {
     "data": {
      "text/plain": [
       "0.71289910600255424"
      ]
     },
     "execution_count": 11,
     "metadata": {},
     "output_type": "execute_result"
    }
   ],
   "source": [
    "chanceLevel1 = 213/783 #if you always pick palestrina he has 213 of the 783 files\n",
    "#composerForest.oob_score_\n",
    "correct = sum(composerForest.predict(test_features[:,0:18])==test_classes[:,0])\n",
    "total = len(test_classes)\n",
    "percentCorrect = correct/total\n",
    "percentCorrect"
   ]
  },
  {
   "cell_type": "markdown",
   "metadata": {},
   "source": [
    "We got 70% accuraccy.  Not too shabby.  Chance levels here are 27%, calculated both by the number of files that classify as the most prolific composer, and verified by training a random forest on independent features and then having it classify (not shown).\n",
    "\n",
    "So 70% is much better than 27%, but it's not great.  Let's now add in the other features."
   ]
  },
  {
   "cell_type": "code",
   "execution_count": 12,
   "metadata": {
    "collapsed": true
   },
   "outputs": [],
   "source": [
    "#Now let's add time signature, ambitus, key, and ambitus\n",
    "XVar = train_features #Train on all features\n",
    "YVar = train_classes[:,0]\n",
    "\n",
    "composerForest=ensemble.RandomForestClassifier(n_estimators=500, criterion='gini', max_depth=None, min_samples_split=2, min_samples_leaf=1, min_weight_fraction_leaf=0.0, max_features='auto', max_leaf_nodes=None, bootstrap=True, oob_score=True, n_jobs=-1, random_state=None, verbose=0, warm_start=False, class_weight=None)        \n",
    "composerForest.fit(XVar,YVar); "
   ]
  },
  {
   "cell_type": "code",
   "execution_count": 13,
   "metadata": {
    "collapsed": false
   },
   "outputs": [
    {
     "data": {
      "text/plain": [
       "0.95197956577266918"
      ]
     },
     "execution_count": 13,
     "metadata": {},
     "output_type": "execute_result"
    }
   ],
   "source": [
    "correct = sum(composerForest.predict(test_features)==test_classes[:,0])\n",
    "total = len(test_classes)\n",
    "percentCorrect = correct/total\n",
    "percentCorrect"
   ]
  },
  {
   "cell_type": "markdown",
   "metadata": {},
   "source": [
    "About 95% accuracy, that's pretty good!  Let's find out what features are important."
   ]
  },
  {
   "cell_type": "code",
   "execution_count": 15,
   "metadata": {
    "collapsed": false
   },
   "outputs": [
    {
     "data": {
      "image/png": "[encoded data removed]",
      "text/plain": [
       "<matplotlib.figure.Figure at 0xd846a58>"
      ]
     },
     "metadata": {},
     "output_type": "display_data"
    }
   ],
   "source": [
    "plt.bar(range(0,len(composerForest.feature_importances_)),composerForest.feature_importances_, align='center')\n",
    "plt.xticks(range(0,len(composerForest.feature_importances_)), featureLabels, rotation='vertical');\n",
    "plt.xlim([-1,22]);"
   ]
  },
  {
   "cell_type": "markdown",
   "metadata": {},
   "source": [
    "The time signature seems to be very important.  That seems odd to me, as I would guess composers like to change time signatures often.  Maybe the songs I selected had a correlation between time signatures and composers that they should not have.  Normally I would look into this but this time I'll ignore it.  \n",
    "\n",
    "The LDA features don't do great, but they do ok.  FirstTopic does the best, as expected.  And if you consider them together, they actually do quite a bit of work (they can predict with 70% accuracy after all)"
   ]
  },
  {
   "cell_type": "markdown",
   "metadata": {},
   "source": [
    "#Score Prediction\n",
    "\n",
    "We now need to find what song a piece of music came from.  We had good luck with random forests before, why not try one again?"
   ]
  },
  {
   "cell_type": "code",
   "execution_count": 16,
   "metadata": {
    "collapsed": false
   },
   "outputs": [],
   "source": [
    "XVar = train_features #Train all features\n",
    "YVar = train_classes[:,3]\n",
    "  \n",
    "scoreForest=ensemble.RandomForestClassifier(n_estimators=250, criterion='gini', max_depth=None, min_samples_split=2, min_samples_leaf=1, min_weight_fraction_leaf=0.0, max_features='auto', max_leaf_nodes=None, bootstrap=True, oob_score=True, n_jobs=-1, random_state=None, verbose=0, warm_start=False, class_weight=None)        \n",
    "scoreForest.fit(XVar,YVar); "
   ]
  },
  {
   "cell_type": "code",
   "execution_count": 17,
   "metadata": {
    "collapsed": false
   },
   "outputs": [
    {
     "data": {
      "text/plain": [
       "0.65508727117922516"
      ]
     },
     "execution_count": 17,
     "metadata": {},
     "output_type": "execute_result"
    }
   ],
   "source": [
    "scoreForest.oob_score_"
   ]
  },
  {
   "cell_type": "code",
   "execution_count": 18,
   "metadata": {
    "collapsed": false
   },
   "outputs": [
    {
     "data": {
      "text/plain": [
       "0.6498084291187739"
      ]
     },
     "execution_count": 18,
     "metadata": {},
     "output_type": "execute_result"
    }
   ],
   "source": [
    "correct = sum(scoreForest.predict(test_features)==test_classes[:,3])\n",
    "total = len(test_classes)\n",
    "percentCorrect = correct/total\n",
    "percentCorrect"
   ]
  },
  {
   "cell_type": "markdown",
   "metadata": {},
   "source": [
    "Random forest does ok - at about 65%.  This is MUCH higher than chance which is (about 0.1%).  We need more trees but that takes too much memory. \n",
    "\n",
    "One issue is that some songs are broken up into multiple files.  The algorithm has no way to know which file a part of a song came from and as a result gets it wrong.  Combining the files appropriately may help, but this is tricky to do with classical music (e.g. we should probably NOT combine different movements of the same song).  \n",
    "\n",
    "We can try to improve by training random forests separately for each composer.  "
   ]
  },
  {
   "cell_type": "code",
   "execution_count": 19,
   "metadata": {
    "collapsed": false
   },
   "outputs": [],
   "source": [
    "class RF_Container: pass\n",
    "composerScoreForests=RF_Container()  \n",
    "\n",
    "for c in set(composers):\n",
    "    compIdx = numpy.where(numpy.array(train_classes[:,0])==str(compDict[c]))[0]\n",
    "    XVar = train_features[compIdx,:] #Train all features\n",
    "    YVar = train_classes[compIdx,3]\n",
    "    composerScoreForest=ensemble.RandomForestClassifier(n_estimators=1000, criterion='gini', max_depth=None, min_samples_split=2, min_samples_leaf=1, min_weight_fraction_leaf=0.0, max_features='auto', max_leaf_nodes=None, bootstrap=True, oob_score=True, n_jobs=-1, random_state=None, verbose=0, warm_start=False, class_weight=None)        \n",
    "    composerScoreForest.fit(XVar,YVar)  \n",
    "    setattr(composerScoreForests, 'CID' + str(compDict[c]), composerScoreForest)\n",
    "   "
   ]
  },
  {
   "cell_type": "code",
   "execution_count": 20,
   "metadata": {
    "collapsed": false
   },
   "outputs": [],
   "source": [
    "sID=[]\n",
    "cID=[]\n",
    "for sample in range(0,len(test_features)):\n",
    "    cID.append(composerForest.predict(test_features[sample,:].reshape(1,-1)))\n",
    "    rf = getattr(composerScoreForests,'CID' + str(cID[-1][0]))\n",
    "    sID.append(rf.predict(test_features[sample,:].reshape(1,-1))[0])"
   ]
  },
  {
   "cell_type": "code",
   "execution_count": 21,
   "metadata": {
    "collapsed": false
   },
   "outputs": [
    {
     "data": {
      "text/plain": [
       "0.64086845466155806"
      ]
     },
     "execution_count": 21,
     "metadata": {},
     "output_type": "execute_result"
    }
   ],
   "source": [
    "percentCorrect = sum(sID==test_classes[0:len(sID),3])/len(sID)\n",
    "percentCorrect"
   ]
  },
  {
   "cell_type": "markdown",
   "metadata": {},
   "source": [
    "Not much of a change unfortunately.  However, this DOES train MUCH more quickly."
   ]
  },
  {
   "cell_type": "markdown",
   "metadata": {},
   "source": [
    "#Determine Location of Song Sample in Song\n",
    "\n",
    "Now we will attempt to match the location in the song from where the sample is taken from.\n",
    "\n",
    "To do this we will first define a numberline of notes ordered by their frequency\n",
    "e.g. [A10 B10 C10.... A6 B6 C6 ...A1 B1 C1]\n",
    "Each will be mapped to a number, in order of frequency\n",
    "\n",
    "We will then take our song sample piece and move it through the score file identified by the random forest and at each location we will determine how far each note is in the sample from the aligned note in the full song\n",
    "\n",
    "e.g.\n",
    "Piece [A, B, C]\n",
    "Song [B, A, B, A, B, C, A, B, A]\n",
    "Piece will move along Song, and at each location we will calculate the difference in each aligned note based on the numberline.\n",
    "The smallest absolute difference will be the location where the piece fits."
   ]
  },
  {
   "cell_type": "code",
   "execution_count": 41,
   "metadata": {
    "collapsed": false,
    "scrolled": false
   },
   "outputs": [],
   "source": [
    "def generateNoteValDict():  #Generate a dictionary with note values\n",
    "    noteLetters = ['A','B','C','D','E','F','G']\n",
    "    noteValDict = {}\n",
    "    noteVal = 1\n",
    "    for i in range(8,0,-1):\n",
    "        for l, L in enumerate(noteLetters):\n",
    "            if L == 'A':\n",
    "                noteValDict['F##' + str(i+1)] = noteVal\n",
    "                noteVal += 1\n",
    "                noteValDict['G#' + str(i+1)] = noteVal\n",
    "                noteVal += 1\n",
    "            elif L == 'B':\n",
    "                noteValDict['G##' + str(i+1)] = noteVal\n",
    "                noteVal += 1\n",
    "                noteValDict['A#' + str(i)] = noteVal\n",
    "                noteVal += 1\n",
    "            else:\n",
    "                noteValDict[noteLetters[l-2] + '##' + str(i)] = noteVal\n",
    "                noteVal += 1\n",
    "                noteValDict[noteLetters[l-1] + '#' + str(i)] = noteVal\n",
    "                noteVal += 1\n",
    "\n",
    "            noteValDict[L + str(i)] = noteVal\n",
    "            noteVal += 1\n",
    "\n",
    "            if L == 'F':\n",
    "                noteValDict['G-' + str(i)] = noteVal\n",
    "                noteVal += 1\n",
    "                noteValDict['A--' + str(i-1)] = noteVal\n",
    "                noteVal += 1\n",
    "            elif L == 'G':\n",
    "                noteValDict['A-' + str(i-1)] = noteVal\n",
    "                noteVal += 1\n",
    "                noteValDict['B--' + str(i-1)] = noteVal\n",
    "                noteVal += 1\n",
    "            else:\n",
    "                noteValDict[noteLetters[l+1] + '-' + str(i)] = noteVal\n",
    "                noteVal += 1\n",
    "                noteValDict[noteLetters[l+2] + '--' + str(i)] = noteVal\n",
    "                noteVal += 1\n",
    "                \n",
    "    return noteValDict\n",
    "\n",
    "noteValDict = generateNoteValDict()"
   ]
  },
  {
   "cell_type": "code",
   "execution_count": 117,
   "metadata": {
    "collapsed": true
   },
   "outputs": [],
   "source": [
    "def pieceLocation(sample, score):  #Calculate distance metric\n",
    "    minDist = 99999999999999\n",
    "    minIdx = -1  \n",
    "    \n",
    "    sampleVals = numpy.array([noteValDict[x] for x in sample])\n",
    "    scoreVals = numpy.array([noteValDict[x] for x in score])\n",
    "    \n",
    "    for i in range(0, len(score)-len(sample)):\n",
    "        sampleDist = sum(numpy.abs(sampleVals-scoreVals[i:i+len(sample)]))\n",
    "        if sampleDist < minDist:\n",
    "            minDist = sampleDist\n",
    "            minIdx = i\n",
    "    return [minIdx, minDist]"
   ]
  },
  {
   "cell_type": "code",
   "execution_count": 130,
   "metadata": {
    "collapsed": false
   },
   "outputs": [],
   "source": [
    "def analyzePiece(sampleFeatures,sampleScore): #Analyze a song sample\n",
    "\n",
    "    pieceCompID = composerForest.predict(sampleFeatures)\n",
    "    for c, compId in compDict.items():\n",
    "        if compId == int(pieceCompID[0]):\n",
    "            pieceComposer = c\n",
    "        \n",
    "    pieceScoreID = scoreForest.predict(sampleFeatures)\n",
    "    pieceScoreFile = scores[int(pieceScoreID[0])]\n",
    "    \n",
    "    fullScore = notesArray[int(pieceScoreID[0])]\n",
    "    minIdx, minDist = pieceLocation(sampleScore, fullScore)\n",
    "\n",
    "    return [pieceComposer, pieceScoreFile, minIdx, minDist, fullScore]"
   ]
  },
  {
   "cell_type": "code",
   "execution_count": 149,
   "metadata": {
    "collapsed": true
   },
   "outputs": [],
   "source": [
    "def printResults(predComposer,predScoreFile,matchIdx,matchDistance, fullScore, testPiece):  #Print analysis results from song sample\n",
    "    print('Predicted Composer: ' + predComposer)\n",
    "    print('Actual Composer: ' + test_classes[sampleID,1])\n",
    "    print('Predicted ScoreFile: ' + predScoreFile)\n",
    "    print('Actual ScoreFile: ' + test_classes[sampleID,2])\n",
    "    print('Match Distance: ' + str(matchDistance))\n",
    "\n",
    "    for i in range(max(0,matchIdx-5),max(0,matchIdx-5)+15):\n",
    "        if i < matchIdx:\n",
    "            print(fullScore[i] + '|')\n",
    "        else:\n",
    "            print(fullScore[i] + '|' + testPiece[i-matchIdx])\n",
    "    print('...\\n...\\n...')\n",
    "    for i in range(matchIdx+len(testPiece)-15,min(len(fullScore),matchIdx+len(testPiece)+5)):\n",
    "        if i-matchIdx >= len(testPiece):\n",
    "            print(fullScore[i] + '|')\n",
    "        else:\n",
    "            print(fullScore[i] + '|' + testPiece[i-matchIdx])"
   ]
  },
  {
   "cell_type": "markdown",
   "metadata": {},
   "source": [
    "##Correctly Classified Song\n",
    "\n",
    "Let's look at a correctly classified song.  Everything matches, and the Match Distance is 0.  You can see the notes of the full score on the left side, and the notes of the sample on the right side."
   ]
  },
  {
   "cell_type": "code",
   "execution_count": 148,
   "metadata": {
    "collapsed": false
   },
   "outputs": [
    {
     "name": "stdout",
     "output_type": "stream",
     "text": [
      "Predicted Composer: bethoveen\n",
      "Actual Composer: bethoveen\n",
      "Predicted ScoreFile: D:\\Google Drive\\Insight Data Science\\Yewno/musicDB\\bethoveen\\sonatas\\sonata02-4.krn\n",
      "Actual ScoreFile: D:\\Google Drive\\Insight Data Science\\Yewno/musicDB\\bethoveen\\sonatas\\sonata02-4.krn\n",
      "Match Distance: 0\n",
      "E6|\n",
      "E6|\n",
      "E6|\n",
      "B-4|\n",
      "B-4|\n",
      "B-4|B-4\n",
      "G5|G5\n",
      "E5|E5\n",
      "B-4|B-4\n",
      "A4|A4\n",
      "C5|C5\n",
      "F5|F5\n",
      "C5|C5\n",
      "A5|A5\n",
      "F5|F5\n",
      "...\n",
      "...\n",
      "...\n",
      "E3|E3\n",
      "B-3|B-3\n",
      "C3|C3\n",
      "B-3|B-3\n",
      "E3|E3\n",
      "B-3|B-3\n",
      "C#3|C#3\n",
      "A#3|A#3\n",
      "E3|E3\n",
      "A#3|A#3\n",
      "C#3|C#3\n",
      "A#3|A#3\n",
      "E3|E3\n",
      "A#3|A#3\n",
      "D3|D3\n",
      "B3|\n",
      "F#3|\n",
      "B3|\n",
      "D3|\n",
      "B3|\n"
     ]
    }
   ],
   "source": [
    "sampleID = 1\n",
    "testPiece = test_pieceScores[sampleID][0]\n",
    "predComposer, predScoreFile, matchIdx, matchDistance, fullScore = analyzePiece(test_features[sampleID,:].reshape(1,-1),testPiece)\n",
    "            \n",
    "printResults(predComposer,predScoreFile,matchIdx,matchDistance, fullScore, testPiece)"
   ]
  },
  {
   "cell_type": "markdown",
   "metadata": {},
   "source": [
    "##Incorrectly Classified Song\n",
    "\n",
    "Let's look at an incorrectly classified song.  You can see a mismatch in the notes, and distance is 511.  You can also see that the composer is correctly matched by both the Composer model and the Score model."
   ]
  },
  {
   "cell_type": "code",
   "execution_count": 152,
   "metadata": {
    "collapsed": false
   },
   "outputs": [
    {
     "name": "stdout",
     "output_type": "stream",
     "text": [
      "Predicted Composer: mozart\n",
      "Actual Composer: mozart\n",
      "Predicted ScoreFile: D:\\Google Drive\\Insight Data Science\\Yewno/musicDB\\mozart\\sonata\\sonata01-3.krn\n",
      "Actual ScoreFile: D:\\Google Drive\\Insight Data Science\\Yewno/musicDB\\mozart\\sonata\\sonata15-3.krn\n",
      "Match Distance: 511\n",
      "D5|\n",
      "F5|\n",
      "G5|\n",
      "B5|\n",
      "C5|\n",
      "E5|E5\n",
      "G5|G5\n",
      "C6|C6\n",
      "C4|E4\n",
      "D4|C5\n",
      "E4|E4\n",
      "F4|C5\n",
      "G4|E4\n",
      "A4|C5\n",
      "B4|C4\n",
      "...\n",
      "...\n",
      "...\n",
      "E4|C5\n",
      "B3|A3\n",
      "D4|C4\n",
      "A3|A3\n",
      "C4|C4\n",
      "G3|F3\n",
      "B3|A3\n",
      "C4|G3\n",
      "C5|B3\n",
      "F4|G3\n",
      "F#4|B3\n",
      "G4|E3\n",
      "G3|G3\n",
      "E3|F3\n",
      "G3|D3\n",
      "D3|\n",
      "F3|\n",
      "C3|\n",
      "E3|\n",
      "B2|\n"
     ]
    }
   ],
   "source": [
    "sampleID = 0\n",
    "testPiece = test_pieceScores[sampleID][0]\n",
    "predComposer, predScoreFile, matchIdx, matchDistance, fullScore = analyzePiece(test_features[sampleID,:].reshape(1,-1),testPiece)\n",
    "            \n",
    "printResults(predComposer,predScoreFile,matchIdx,matchDistance, fullScore, testPiece)"
   ]
  }
 ],
 "metadata": {
  "kernelspec": {
   "display_name": "Python 3",
   "language": "python",
   "name": "python3"
  },
  "language_info": {
   "codemirror_mode": {
    "name": "ipython",
    "version": 3
   },
   "file_extension": ".py",
   "mimetype": "text/x-python",
   "name": "python",
   "nbconvert_exporter": "python",
   "pygments_lexer": "ipython3",
   "version": "3.4.3"
  }
 },
 "nbformat": 4,
 "nbformat_minor": 0
}
